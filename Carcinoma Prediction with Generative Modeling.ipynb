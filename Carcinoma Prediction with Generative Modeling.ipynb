{
 "cells": [
  {
   "cell_type": "markdown",
   "metadata": {},
   "source": [
    "This data was pulled from the UCI Respository and is a REAL dataset\n",
    "go to http://archive.ics.uci.edu/ml/datasets/HCC+Survival for more information!\n",
    "\n",
    "Abstract: Hepatocellular Carcinoma dataset (HCC dataset) \n",
    "was collected at a University Hospital in Portugal. \n",
    "It contains real clinical data of 165 patients diagnosed with HCC. This project will be \n",
    "an interesting look into doing classification with pretty small data, only 165 points.\n",
    "With almost 50 features (dimensions), this is a hard problem!\n",
    "\n",
    "It's also a good problem on tackling datasets that are small, as doing maximum likelihood\n",
    "estimation on small data can give results that might not be flexible for future prediction, while a Bayesian inference will give the whole distribution to play with and do some analysis. The Bayesian contet also lets us put some prior information (even if it isn't so strong), which can give us an edge over maximum likelihood when we don't have a lot of data, especially disease data. \n"
   ]
  },
  {
   "cell_type": "code",
   "execution_count": 2,
   "metadata": {},
   "outputs": [],
   "source": [
    "# First, we read in the file and import packages\n",
    "import numpy as np\n",
    "import pandas as pd\n",
    "from sklearn.linear_model import LogisticRegression\n",
    "import matplotlib.pyplot as plt\n",
    "import seaborn as sns\n",
    "import pymc3 as pm\n",
    "from sklearn.metrics import confusion_matrix as cmatrix\n"
   ]
  },
  {
   "cell_type": "code",
   "execution_count": 3,
   "metadata": {},
   "outputs": [],
   "source": [
    "# Load the HCC data\n",
    "hcc_data = pd.read_csv('/Users/rabeya/Carcinoma_Classification_data/hcc.csv')"
   ]
  },
  {
   "cell_type": "code",
   "execution_count": 4,
   "metadata": {},
   "outputs": [
    {
     "data": {
      "text/html": [
       "<div>\n",
       "<style scoped>\n",
       "    .dataframe tbody tr th:only-of-type {\n",
       "        vertical-align: middle;\n",
       "    }\n",
       "\n",
       "    .dataframe tbody tr th {\n",
       "        vertical-align: top;\n",
       "    }\n",
       "\n",
       "    .dataframe thead th {\n",
       "        text-align: right;\n",
       "    }\n",
       "</style>\n",
       "<table border=\"1\" class=\"dataframe\">\n",
       "  <thead>\n",
       "    <tr style=\"text-align: right;\">\n",
       "      <th></th>\n",
       "      <th>1.Gen</th>\n",
       "      <th>2.Sym</th>\n",
       "      <th>3.Alc</th>\n",
       "      <th>4.HepB</th>\n",
       "      <th>5.HepB</th>\n",
       "      <th>6.HepB</th>\n",
       "      <th>7.HepC</th>\n",
       "      <th>8.Cir</th>\n",
       "      <th>9.End</th>\n",
       "      <th>10.Smo</th>\n",
       "      <th>...</th>\n",
       "      <th>41.Alk</th>\n",
       "      <th>42.Prot</th>\n",
       "      <th>43.Crea</th>\n",
       "      <th>44.NNod</th>\n",
       "      <th>45.dnod</th>\n",
       "      <th>46.Bil</th>\n",
       "      <th>47.Iro</th>\n",
       "      <th>48.Oxy</th>\n",
       "      <th>49.Fer</th>\n",
       "      <th>Class</th>\n",
       "    </tr>\n",
       "  </thead>\n",
       "  <tbody>\n",
       "    <tr>\n",
       "      <td>0</td>\n",
       "      <td>1</td>\n",
       "      <td>0</td>\n",
       "      <td>1</td>\n",
       "      <td>0</td>\n",
       "      <td>0</td>\n",
       "      <td>0</td>\n",
       "      <td>0</td>\n",
       "      <td>1</td>\n",
       "      <td>0</td>\n",
       "      <td>1</td>\n",
       "      <td>...</td>\n",
       "      <td>150</td>\n",
       "      <td>7.1</td>\n",
       "      <td>0.7</td>\n",
       "      <td>1</td>\n",
       "      <td>3.5</td>\n",
       "      <td>0.5</td>\n",
       "      <td>?</td>\n",
       "      <td>?</td>\n",
       "      <td>?</td>\n",
       "      <td>1</td>\n",
       "    </tr>\n",
       "    <tr>\n",
       "      <td>1</td>\n",
       "      <td>0</td>\n",
       "      <td>?</td>\n",
       "      <td>0</td>\n",
       "      <td>0</td>\n",
       "      <td>0</td>\n",
       "      <td>0</td>\n",
       "      <td>1</td>\n",
       "      <td>1</td>\n",
       "      <td>?</td>\n",
       "      <td>?</td>\n",
       "      <td>...</td>\n",
       "      <td>?</td>\n",
       "      <td>?</td>\n",
       "      <td>?</td>\n",
       "      <td>1</td>\n",
       "      <td>1.8</td>\n",
       "      <td>?</td>\n",
       "      <td>?</td>\n",
       "      <td>?</td>\n",
       "      <td>?</td>\n",
       "      <td>1</td>\n",
       "    </tr>\n",
       "    <tr>\n",
       "      <td>2</td>\n",
       "      <td>1</td>\n",
       "      <td>0</td>\n",
       "      <td>1</td>\n",
       "      <td>1</td>\n",
       "      <td>0</td>\n",
       "      <td>1</td>\n",
       "      <td>0</td>\n",
       "      <td>1</td>\n",
       "      <td>0</td>\n",
       "      <td>1</td>\n",
       "      <td>...</td>\n",
       "      <td>109</td>\n",
       "      <td>7</td>\n",
       "      <td>2.1</td>\n",
       "      <td>5</td>\n",
       "      <td>13</td>\n",
       "      <td>0.1</td>\n",
       "      <td>28</td>\n",
       "      <td>6</td>\n",
       "      <td>16</td>\n",
       "      <td>1</td>\n",
       "    </tr>\n",
       "    <tr>\n",
       "      <td>3</td>\n",
       "      <td>1</td>\n",
       "      <td>1</td>\n",
       "      <td>1</td>\n",
       "      <td>0</td>\n",
       "      <td>0</td>\n",
       "      <td>0</td>\n",
       "      <td>0</td>\n",
       "      <td>1</td>\n",
       "      <td>0</td>\n",
       "      <td>1</td>\n",
       "      <td>...</td>\n",
       "      <td>174</td>\n",
       "      <td>8.1</td>\n",
       "      <td>1.11</td>\n",
       "      <td>2</td>\n",
       "      <td>15.7</td>\n",
       "      <td>0.2</td>\n",
       "      <td>?</td>\n",
       "      <td>?</td>\n",
       "      <td>?</td>\n",
       "      <td>0</td>\n",
       "    </tr>\n",
       "    <tr>\n",
       "      <td>4</td>\n",
       "      <td>1</td>\n",
       "      <td>1</td>\n",
       "      <td>1</td>\n",
       "      <td>1</td>\n",
       "      <td>0</td>\n",
       "      <td>1</td>\n",
       "      <td>0</td>\n",
       "      <td>1</td>\n",
       "      <td>0</td>\n",
       "      <td>1</td>\n",
       "      <td>...</td>\n",
       "      <td>109</td>\n",
       "      <td>6.9</td>\n",
       "      <td>1.8</td>\n",
       "      <td>1</td>\n",
       "      <td>9</td>\n",
       "      <td>?</td>\n",
       "      <td>59</td>\n",
       "      <td>15</td>\n",
       "      <td>22</td>\n",
       "      <td>1</td>\n",
       "    </tr>\n",
       "    <tr>\n",
       "      <td>...</td>\n",
       "      <td>...</td>\n",
       "      <td>...</td>\n",
       "      <td>...</td>\n",
       "      <td>...</td>\n",
       "      <td>...</td>\n",
       "      <td>...</td>\n",
       "      <td>...</td>\n",
       "      <td>...</td>\n",
       "      <td>...</td>\n",
       "      <td>...</td>\n",
       "      <td>...</td>\n",
       "      <td>...</td>\n",
       "      <td>...</td>\n",
       "      <td>...</td>\n",
       "      <td>...</td>\n",
       "      <td>...</td>\n",
       "      <td>...</td>\n",
       "      <td>...</td>\n",
       "      <td>...</td>\n",
       "      <td>...</td>\n",
       "      <td>...</td>\n",
       "    </tr>\n",
       "    <tr>\n",
       "      <td>160</td>\n",
       "      <td>0</td>\n",
       "      <td>0</td>\n",
       "      <td>1</td>\n",
       "      <td>?</td>\n",
       "      <td>?</td>\n",
       "      <td>?</td>\n",
       "      <td>1</td>\n",
       "      <td>1</td>\n",
       "      <td>0</td>\n",
       "      <td>1</td>\n",
       "      <td>...</td>\n",
       "      <td>109</td>\n",
       "      <td>7.6</td>\n",
       "      <td>0.7</td>\n",
       "      <td>5</td>\n",
       "      <td>3</td>\n",
       "      <td>?</td>\n",
       "      <td>?</td>\n",
       "      <td>?</td>\n",
       "      <td>?</td>\n",
       "      <td>1</td>\n",
       "    </tr>\n",
       "    <tr>\n",
       "      <td>161</td>\n",
       "      <td>0</td>\n",
       "      <td>1</td>\n",
       "      <td>0</td>\n",
       "      <td>?</td>\n",
       "      <td>?</td>\n",
       "      <td>?</td>\n",
       "      <td>?</td>\n",
       "      <td>1</td>\n",
       "      <td>0</td>\n",
       "      <td>0</td>\n",
       "      <td>...</td>\n",
       "      <td>280</td>\n",
       "      <td>6.7</td>\n",
       "      <td>0.7</td>\n",
       "      <td>1</td>\n",
       "      <td>2.2</td>\n",
       "      <td>2.3</td>\n",
       "      <td>?</td>\n",
       "      <td>?</td>\n",
       "      <td>?</td>\n",
       "      <td>0</td>\n",
       "    </tr>\n",
       "    <tr>\n",
       "      <td>162</td>\n",
       "      <td>1</td>\n",
       "      <td>0</td>\n",
       "      <td>1</td>\n",
       "      <td>0</td>\n",
       "      <td>0</td>\n",
       "      <td>0</td>\n",
       "      <td>0</td>\n",
       "      <td>1</td>\n",
       "      <td>0</td>\n",
       "      <td>1</td>\n",
       "      <td>...</td>\n",
       "      <td>181</td>\n",
       "      <td>7.5</td>\n",
       "      <td>1.46</td>\n",
       "      <td>5</td>\n",
       "      <td>18.6</td>\n",
       "      <td>?</td>\n",
       "      <td>?</td>\n",
       "      <td>?</td>\n",
       "      <td>?</td>\n",
       "      <td>1</td>\n",
       "    </tr>\n",
       "    <tr>\n",
       "      <td>163</td>\n",
       "      <td>1</td>\n",
       "      <td>0</td>\n",
       "      <td>1</td>\n",
       "      <td>1</td>\n",
       "      <td>0</td>\n",
       "      <td>1</td>\n",
       "      <td>1</td>\n",
       "      <td>1</td>\n",
       "      <td>1</td>\n",
       "      <td>1</td>\n",
       "      <td>...</td>\n",
       "      <td>170</td>\n",
       "      <td>8.4</td>\n",
       "      <td>0.74</td>\n",
       "      <td>5</td>\n",
       "      <td>18</td>\n",
       "      <td>?</td>\n",
       "      <td>?</td>\n",
       "      <td>?</td>\n",
       "      <td>?</td>\n",
       "      <td>0</td>\n",
       "    </tr>\n",
       "    <tr>\n",
       "      <td>164</td>\n",
       "      <td>1</td>\n",
       "      <td>1</td>\n",
       "      <td>1</td>\n",
       "      <td>0</td>\n",
       "      <td>0</td>\n",
       "      <td>0</td>\n",
       "      <td>1</td>\n",
       "      <td>1</td>\n",
       "      <td>0</td>\n",
       "      <td>1</td>\n",
       "      <td>...</td>\n",
       "      <td>462</td>\n",
       "      <td>6.6</td>\n",
       "      <td>3.95</td>\n",
       "      <td>5</td>\n",
       "      <td>8.5</td>\n",
       "      <td>19.8</td>\n",
       "      <td>?</td>\n",
       "      <td>?</td>\n",
       "      <td>?</td>\n",
       "      <td>0</td>\n",
       "    </tr>\n",
       "  </tbody>\n",
       "</table>\n",
       "<p>165 rows × 50 columns</p>\n",
       "</div>"
      ],
      "text/plain": [
       "     1.Gen 2.Sym  3.Alc 4.HepB 5.HepB 6.HepB 7.HepC  8.Cir 9.End 10.Smo  ...  \\\n",
       "0        1     0      1      0      0      0      0      1     0      1  ...   \n",
       "1        0     ?      0      0      0      0      1      1     ?      ?  ...   \n",
       "2        1     0      1      1      0      1      0      1     0      1  ...   \n",
       "3        1     1      1      0      0      0      0      1     0      1  ...   \n",
       "4        1     1      1      1      0      1      0      1     0      1  ...   \n",
       "..     ...   ...    ...    ...    ...    ...    ...    ...   ...    ...  ...   \n",
       "160      0     0      1      ?      ?      ?      1      1     0      1  ...   \n",
       "161      0     1      0      ?      ?      ?      ?      1     0      0  ...   \n",
       "162      1     0      1      0      0      0      0      1     0      1  ...   \n",
       "163      1     0      1      1      0      1      1      1     1      1  ...   \n",
       "164      1     1      1      0      0      0      1      1     0      1  ...   \n",
       "\n",
       "    41.Alk 42.Prot 43.Crea 44.NNod 45.dnod 46.Bil 47.Iro 48.Oxy 49.Fer Class  \n",
       "0      150     7.1     0.7       1     3.5    0.5      ?      ?      ?     1  \n",
       "1        ?       ?       ?       1     1.8      ?      ?      ?      ?     1  \n",
       "2      109       7     2.1       5      13    0.1     28      6     16     1  \n",
       "3      174     8.1    1.11       2    15.7    0.2      ?      ?      ?     0  \n",
       "4      109     6.9     1.8       1       9      ?     59     15     22     1  \n",
       "..     ...     ...     ...     ...     ...    ...    ...    ...    ...   ...  \n",
       "160    109     7.6     0.7       5       3      ?      ?      ?      ?     1  \n",
       "161    280     6.7     0.7       1     2.2    2.3      ?      ?      ?     0  \n",
       "162    181     7.5    1.46       5    18.6      ?      ?      ?      ?     1  \n",
       "163    170     8.4    0.74       5      18      ?      ?      ?      ?     0  \n",
       "164    462     6.6    3.95       5     8.5   19.8      ?      ?      ?     0  \n",
       "\n",
       "[165 rows x 50 columns]"
      ]
     },
     "execution_count": 4,
     "metadata": {},
     "output_type": "execute_result"
    }
   ],
   "source": [
    "hcc_data"
   ]
  },
  {
   "cell_type": "markdown",
   "metadata": {},
   "source": [
    "According to the UCI website,\n",
    "this is an heterogeneous dataset, with 23 quantitative variables, \n",
    "and 26 qualitative variables. Overall, missing data represents 10.22% \n",
    "of the whole dataset and only eight patients have complete information \n",
    "in all fields (4.85%). The target variables is the survival at 1 year, \n",
    "and was encoded as a binary variable: 0 (dies) and 1 (lives). \n",
    "A certain degree of class-imbalance is also present (63 cases labeled as \"dies\" \n",
    "and 102 as \"alive\")."
   ]
  },
  {
   "cell_type": "markdown",
   "metadata": {},
   "source": [
    "Our strategy for creating a classification algorithm is to use something different from supervised learning. Supervised learning, of course, deals with creating algorithms to optimize a function, or a mapping/relationship between the input variables (or features), and output labels (1=life, 0=death). Some of thse optimizers include backpropagation (neural networks) and gradient descent (for linear, logistic regression). Random forests and decision trees are also supervised learning, but they don't use gradient optimization. Instead they use stuff called \"information-theory\" to create their function mappings.\n",
    "\n",
    "We won't be useing a direct supervised learning algorithm. Instead, after fixing missing values and balancing our dataset, we'll be using an optimizer called Expecgation-Maximization to create a generative model called a Gaussian Mixture model. We can then use this model to calculate the likelihood that a new unseen test-point is in class 1 or 0."
   ]
  },
  {
   "cell_type": "markdown",
   "metadata": {},
   "source": [
    "# Part 1: Exploratory Data Analysis (EDA) –– Fixing Missing Values"
   ]
  },
  {
   "cell_type": "markdown",
   "metadata": {},
   "source": [
    "First we need to fix some missing data; either we replace the missing one with the\n",
    "mean around the others, or drop it, or some other shit. We'll use Miria santos's method of the HEOM distance to do this. "
   ]
  },
  {
   "cell_type": "code",
   "execution_count": 5,
   "metadata": {},
   "outputs": [
    {
     "data": {
      "text/plain": [
       "Index(['1.Gen', '2.Sym', '3.Alc', '4.HepB', '5.HepB', '6.HepB', '7.HepC',\n",
       "       '8.Cir', '9.End', '10.Smo', '11.Dia', '12.Obe', '13.Hem', '14.Art',\n",
       "       '15.CRen', '16.HIV', '17.Non', '18.EVar', '19.Spl', '20.PHyp', '21.Thr',\n",
       "       '22.LMet', '23.Rad', '24.Agedia', '25.Alcpd', '26.cigpy', '27.Sta',\n",
       "       '28.Encdeg', '29.Ascdeg', ' 30.IntNorRat', ' 31.Alp', ' 32.Hae',\n",
       "       ' 33.MCorVol', ' 34.Leu', '35.Plat', '36.Alb', '37.Bil', '38.Ala',\n",
       "       '39.Aspa', '40.Gam', '41.Alk', '42.Prot', '43.Crea', '44.NNod',\n",
       "       '45.dnod', '46.Bil', '47.Iro', '48.Oxy', '49.Fer', 'Class'],\n",
       "      dtype='object')"
      ]
     },
     "execution_count": 5,
     "metadata": {},
     "output_type": "execute_result"
    }
   ],
   "source": [
    "hcc_data.columns"
   ]
  },
  {
   "cell_type": "code",
   "execution_count": 6,
   "metadata": {},
   "outputs": [],
   "source": [
    "# in this cell, we have a feature data_type dictionary from the UCI repository \n",
    "nominal = 'nominal'\n",
    "ordinal = 'ordinal'\n",
    "integer = 'integer'\n",
    "continuous = 'continuous'\n",
    "ftypes = {0: nominal,\n",
    "1: nominal,\n",
    "2: nominal,\n",
    "3: nominal,\n",
    "4: nominal,\n",
    "5: nominal,\n",
    "6: nominal,\n",
    "7: nominal,\n",
    "8: nominal,\n",
    "9: nominal,\n",
    "10: nominal,\n",
    "11: nominal,\n",
    "12: nominal,\n",
    "13: nominal,\n",
    "14: nominal,\n",
    "15: nominal,\n",
    "16: nominal,\n",
    "17: nominal,\n",
    "18: nominal,\n",
    "19: nominal,\n",
    "20: nominal,\n",
    "21: nominal,\n",
    "22: nominal,\n",
    "23: integer,\n",
    "24: continuous,\n",
    "25: continuous,\n",
    "26: ordinal,\n",
    "27: ordinal,\n",
    "28: ordinal,\n",
    "29: continuous,\n",
    "30: continuous,\n",
    "31: continuous,\n",
    "32: continuous,\n",
    "33: continuous,\n",
    "34: continuous,\n",
    "35: continuous,\n",
    "36: continuous,\n",
    "37: continuous,\n",
    "38: continuous,\n",
    "39: continuous,\n",
    "40: continuous,\n",
    "41: continuous,\n",
    "42: continuous,\n",
    "43: integer,\n",
    "44: continuous,\n",
    "45: continuous,\n",
    "46: continuous,\n",
    "47: continuous,\n",
    "48: continuous,\n",
    "49: nominal}"
   ]
  },
  {
   "cell_type": "code",
   "execution_count": 7,
   "metadata": {},
   "outputs": [],
   "source": [
    "# this cell programs the distance functions we use for fixing the missing values\n",
    "import math\n",
    "def HEOM_dist(rowA, rowB, df):\n",
    "    dist_vec = np.asarray(dist_list(rowA, rowB,df))\n",
    "    return np.linalg.norm(dist_vec)\n",
    "\n",
    "def dist_list(vecA, vecB, df):\n",
    "    L = []\n",
    "    for j in range(0,len(df.columns)-1):\n",
    "        # if the attribute is missing from vecA or vecB\n",
    "        if ((vecA[j] == '?') or (vecB[j] == '?')):\n",
    "            L.append(1)\n",
    "        else:\n",
    "            # if the attribute is there and the feature is discrete\n",
    "            if ((ftypes[j] == 'nominal') or (ftypes[j] == 'ordinal') or (ftypes[j] == 'integer')):\n",
    "                if (float(vecA[j]) == float(vecB[j])):\n",
    "                    L.append(0)\n",
    "                else:\n",
    "                    L.append(1)\n",
    "            # if the attribute is there and the feature is continuous\n",
    "            elif (ftypes[j] == 'continuous'):\n",
    "                numerator = abs(float(vecA[j])-float(vecB[j]))\n",
    "                # denominator is tricky. \n",
    "                # first make a copy of df.iloc[:,j]  \n",
    "                copy = df.iloc[:,j].copy().values\n",
    "                # then delete '?'\n",
    "                copy = np.delete(copy, np.where(copy=='?'))\n",
    "                # finally convert to float\n",
    "                copy = copy.astype(np.float)\n",
    "                denominator = max(copy)-min(copy)\n",
    "                ans = numerator/denominator\n",
    "                L.append(ans)\n",
    "    # return the list of distances (based on the coordinate, j)\n",
    "    return L        "
   ]
  },
  {
   "cell_type": "code",
   "execution_count": 8,
   "metadata": {},
   "outputs": [
    {
     "data": {
      "application/vnd.jupyter.widget-view+json": {
       "model_id": "00c11664fec348feb41de3f420a4797e",
       "version_major": 2,
       "version_minor": 0
      },
      "text/plain": [
       "HBox(children=(IntProgress(value=0, max=165), HTML(value='')))"
      ]
     },
     "metadata": {},
     "output_type": "display_data"
    },
    {
     "name": "stdout",
     "output_type": "stream",
     "text": [
      "\n"
     ]
    }
   ],
   "source": [
    "# Now let's fix the missing values!\n",
    "# for each row-vector v, check if there's missing values\n",
    "# if there is, we take distancees between v and the set of remaining rows\n",
    "    # we choose the row-vector w closest, and fill in the missing value\n",
    "# if v has no missing-values at all, we continue in the loop\n",
    "import time\n",
    "from tqdm import tqdm_notebook as tqdm\n",
    "\n",
    "# initialize the new empty dataframe (0 rows, all columns)\n",
    "new_df = pd.DataFrame(columns=hcc_data.columns[:-1])\n",
    "\n",
    "for i in tqdm(hcc_data.index):\n",
    "    # each row \n",
    "    row_i = hcc_data.iloc[i, :][:-1]\n",
    "    if ('?' in row_i.values):\n",
    "        # if the row does have any missing values:\n",
    "        heom_distances = []\n",
    "        rest = hcc_data.index.delete(i)\n",
    "        for j in rest:\n",
    "            # jth-vector is row_j\n",
    "            row_j = hcc_data.iloc[j,:][:-1]\n",
    "            # before calculating HEOM, check row_j has complete info in the wanted features\n",
    "            # if row_j does, calculate HEOM. if not, skip over it.\n",
    "            # check where the '?' is in row_i, and if row_j has complete data in the same spots\n",
    "            row_i_missing = np.where(row_i.values == '?')[0]\n",
    "            if ('?' not in row_j.values[row_i_missing]):\n",
    "                # if row_j has no missing values in the same spots,\n",
    "                # then compute the HEOM distance\n",
    "                D = HEOM_dist(row_i, row_j, hcc_data)\n",
    "                heom_distances.append((j,D))\n",
    "            else:\n",
    "                # otherwise skip this vector and continue with the loop\n",
    "                continue\n",
    "                \n",
    "        # after the distances are computed and stored in a list:       \n",
    "        # closest vector to row_i according to distance D\n",
    "        closest_ind = min(heom_distances, key=lambda x: x[1])[0]\n",
    "        # we need to fill in the missing attributes in row_i from closest_v\n",
    "        closest_v = hcc_data.iloc[closest_ind, :][:-1].values # this is the row-vector in hcc_data\n",
    "        # replace the missing attributes from row_i with the corresponding ones from\n",
    "        # closest_v\n",
    "        # first we get the indices of the missing_value (the '?' value)\n",
    "        missing_indexes = np.where(row_i.values == '?')[0]\n",
    "        # then we get the corresponding values from closest_v\n",
    "        corresponding_vals = closest_v[missing_indexes.tolist()]\n",
    "        # finally we replace the values in row_i with the new corresponding values\n",
    "        row_i[missing_indexes] = corresponding_vals\n",
    "        # finally update the empty dataframe by adding the row\n",
    "        new_df = new_df.append(row_i, ignore_index=True)\n",
    "    else:\n",
    "        # if there is no missing attribute values in row_i\n",
    "        # just update the new_df dataframe by adding the row\n",
    "        new_df = new_df.append(row_i, ignore_index=True)\n",
    "        \n",
    "    time.sleep(0.25)\n",
    "            \n",
    "   "
   ]
  },
  {
   "cell_type": "code",
   "execution_count": 9,
   "metadata": {},
   "outputs": [
    {
     "data": {
      "text/html": [
       "<div>\n",
       "<style scoped>\n",
       "    .dataframe tbody tr th:only-of-type {\n",
       "        vertical-align: middle;\n",
       "    }\n",
       "\n",
       "    .dataframe tbody tr th {\n",
       "        vertical-align: top;\n",
       "    }\n",
       "\n",
       "    .dataframe thead th {\n",
       "        text-align: right;\n",
       "    }\n",
       "</style>\n",
       "<table border=\"1\" class=\"dataframe\">\n",
       "  <thead>\n",
       "    <tr style=\"text-align: right;\">\n",
       "      <th></th>\n",
       "      <th>1.Gen</th>\n",
       "      <th>2.Sym</th>\n",
       "      <th>3.Alc</th>\n",
       "      <th>4.HepB</th>\n",
       "      <th>5.HepB</th>\n",
       "      <th>6.HepB</th>\n",
       "      <th>7.HepC</th>\n",
       "      <th>8.Cir</th>\n",
       "      <th>9.End</th>\n",
       "      <th>10.Smo</th>\n",
       "      <th>...</th>\n",
       "      <th>41.Alk</th>\n",
       "      <th>42.Prot</th>\n",
       "      <th>43.Crea</th>\n",
       "      <th>44.NNod</th>\n",
       "      <th>45.dnod</th>\n",
       "      <th>46.Bil</th>\n",
       "      <th>47.Iro</th>\n",
       "      <th>48.Oxy</th>\n",
       "      <th>49.Fer</th>\n",
       "      <th>Class</th>\n",
       "    </tr>\n",
       "  </thead>\n",
       "  <tbody>\n",
       "    <tr>\n",
       "      <td>0</td>\n",
       "      <td>1</td>\n",
       "      <td>0</td>\n",
       "      <td>1</td>\n",
       "      <td>0</td>\n",
       "      <td>0</td>\n",
       "      <td>0</td>\n",
       "      <td>0</td>\n",
       "      <td>1</td>\n",
       "      <td>0</td>\n",
       "      <td>1</td>\n",
       "      <td>...</td>\n",
       "      <td>150</td>\n",
       "      <td>7.1</td>\n",
       "      <td>0.7</td>\n",
       "      <td>1</td>\n",
       "      <td>3.5</td>\n",
       "      <td>0.5</td>\n",
       "      <td>52.5</td>\n",
       "      <td>37</td>\n",
       "      <td>856</td>\n",
       "      <td>1</td>\n",
       "    </tr>\n",
       "    <tr>\n",
       "      <td>1</td>\n",
       "      <td>0</td>\n",
       "      <td>0</td>\n",
       "      <td>0</td>\n",
       "      <td>0</td>\n",
       "      <td>0</td>\n",
       "      <td>0</td>\n",
       "      <td>1</td>\n",
       "      <td>1</td>\n",
       "      <td>0</td>\n",
       "      <td>0</td>\n",
       "      <td>...</td>\n",
       "      <td>433</td>\n",
       "      <td>6.5</td>\n",
       "      <td>0.87</td>\n",
       "      <td>1</td>\n",
       "      <td>1.8</td>\n",
       "      <td>0.4</td>\n",
       "      <td>52.5</td>\n",
       "      <td>37</td>\n",
       "      <td>856</td>\n",
       "      <td>1</td>\n",
       "    </tr>\n",
       "    <tr>\n",
       "      <td>2</td>\n",
       "      <td>1</td>\n",
       "      <td>0</td>\n",
       "      <td>1</td>\n",
       "      <td>1</td>\n",
       "      <td>0</td>\n",
       "      <td>1</td>\n",
       "      <td>0</td>\n",
       "      <td>1</td>\n",
       "      <td>0</td>\n",
       "      <td>1</td>\n",
       "      <td>...</td>\n",
       "      <td>109</td>\n",
       "      <td>7</td>\n",
       "      <td>2.1</td>\n",
       "      <td>5</td>\n",
       "      <td>13</td>\n",
       "      <td>0.1</td>\n",
       "      <td>28</td>\n",
       "      <td>6</td>\n",
       "      <td>16</td>\n",
       "      <td>1</td>\n",
       "    </tr>\n",
       "    <tr>\n",
       "      <td>3</td>\n",
       "      <td>1</td>\n",
       "      <td>1</td>\n",
       "      <td>1</td>\n",
       "      <td>0</td>\n",
       "      <td>0</td>\n",
       "      <td>0</td>\n",
       "      <td>0</td>\n",
       "      <td>1</td>\n",
       "      <td>0</td>\n",
       "      <td>1</td>\n",
       "      <td>...</td>\n",
       "      <td>174</td>\n",
       "      <td>8.1</td>\n",
       "      <td>1.11</td>\n",
       "      <td>2</td>\n",
       "      <td>15.7</td>\n",
       "      <td>0.2</td>\n",
       "      <td>52.5</td>\n",
       "      <td>37</td>\n",
       "      <td>856</td>\n",
       "      <td>0</td>\n",
       "    </tr>\n",
       "    <tr>\n",
       "      <td>4</td>\n",
       "      <td>1</td>\n",
       "      <td>1</td>\n",
       "      <td>1</td>\n",
       "      <td>1</td>\n",
       "      <td>0</td>\n",
       "      <td>1</td>\n",
       "      <td>0</td>\n",
       "      <td>1</td>\n",
       "      <td>0</td>\n",
       "      <td>1</td>\n",
       "      <td>...</td>\n",
       "      <td>109</td>\n",
       "      <td>6.9</td>\n",
       "      <td>1.8</td>\n",
       "      <td>1</td>\n",
       "      <td>9</td>\n",
       "      <td>0.1</td>\n",
       "      <td>59</td>\n",
       "      <td>15</td>\n",
       "      <td>22</td>\n",
       "      <td>1</td>\n",
       "    </tr>\n",
       "  </tbody>\n",
       "</table>\n",
       "<p>5 rows × 50 columns</p>\n",
       "</div>"
      ],
      "text/plain": [
       "  1.Gen 2.Sym 3.Alc 4.HepB 5.HepB 6.HepB 7.HepC 8.Cir 9.End 10.Smo  ...  \\\n",
       "0     1     0     1      0      0      0      0     1     0      1  ...   \n",
       "1     0     0     0      0      0      0      1     1     0      0  ...   \n",
       "2     1     0     1      1      0      1      0     1     0      1  ...   \n",
       "3     1     1     1      0      0      0      0     1     0      1  ...   \n",
       "4     1     1     1      1      0      1      0     1     0      1  ...   \n",
       "\n",
       "  41.Alk 42.Prot 43.Crea 44.NNod 45.dnod 46.Bil 47.Iro 48.Oxy 49.Fer Class  \n",
       "0    150     7.1     0.7       1     3.5    0.5   52.5     37    856     1  \n",
       "1    433     6.5    0.87       1     1.8    0.4   52.5     37    856     1  \n",
       "2    109       7     2.1       5      13    0.1     28      6     16     1  \n",
       "3    174     8.1    1.11       2    15.7    0.2   52.5     37    856     0  \n",
       "4    109     6.9     1.8       1       9    0.1     59     15     22     1  \n",
       "\n",
       "[5 rows x 50 columns]"
      ]
     },
     "execution_count": 9,
     "metadata": {},
     "output_type": "execute_result"
    }
   ],
   "source": [
    "new_df['Class'] = hcc_data['Class']\n",
    "new_df.head()"
   ]
  },
  {
   "cell_type": "code",
   "execution_count": 10,
   "metadata": {},
   "outputs": [
    {
     "data": {
      "text/html": [
       "<div>\n",
       "<style scoped>\n",
       "    .dataframe tbody tr th:only-of-type {\n",
       "        vertical-align: middle;\n",
       "    }\n",
       "\n",
       "    .dataframe tbody tr th {\n",
       "        vertical-align: top;\n",
       "    }\n",
       "\n",
       "    .dataframe thead th {\n",
       "        text-align: right;\n",
       "    }\n",
       "</style>\n",
       "<table border=\"1\" class=\"dataframe\">\n",
       "  <thead>\n",
       "    <tr style=\"text-align: right;\">\n",
       "      <th></th>\n",
       "      <th>1.Gen</th>\n",
       "      <th>2.Sym</th>\n",
       "      <th>3.Alc</th>\n",
       "      <th>4.HepB</th>\n",
       "      <th>5.HepB</th>\n",
       "      <th>6.HepB</th>\n",
       "      <th>7.HepC</th>\n",
       "      <th>8.Cir</th>\n",
       "      <th>9.End</th>\n",
       "      <th>10.Smo</th>\n",
       "      <th>...</th>\n",
       "      <th>41.Alk</th>\n",
       "      <th>42.Prot</th>\n",
       "      <th>43.Crea</th>\n",
       "      <th>44.NNod</th>\n",
       "      <th>45.dnod</th>\n",
       "      <th>46.Bil</th>\n",
       "      <th>47.Iro</th>\n",
       "      <th>48.Oxy</th>\n",
       "      <th>49.Fer</th>\n",
       "      <th>Class</th>\n",
       "    </tr>\n",
       "  </thead>\n",
       "  <tbody>\n",
       "    <tr>\n",
       "      <td>0</td>\n",
       "      <td>1</td>\n",
       "      <td>0</td>\n",
       "      <td>1</td>\n",
       "      <td>0</td>\n",
       "      <td>0</td>\n",
       "      <td>0</td>\n",
       "      <td>0</td>\n",
       "      <td>1</td>\n",
       "      <td>0</td>\n",
       "      <td>1</td>\n",
       "      <td>...</td>\n",
       "      <td>150.0</td>\n",
       "      <td>7.1</td>\n",
       "      <td>0.70</td>\n",
       "      <td>1</td>\n",
       "      <td>3.5</td>\n",
       "      <td>0.5</td>\n",
       "      <td>52.5</td>\n",
       "      <td>37.0</td>\n",
       "      <td>856.0</td>\n",
       "      <td>1</td>\n",
       "    </tr>\n",
       "    <tr>\n",
       "      <td>1</td>\n",
       "      <td>0</td>\n",
       "      <td>0</td>\n",
       "      <td>0</td>\n",
       "      <td>0</td>\n",
       "      <td>0</td>\n",
       "      <td>0</td>\n",
       "      <td>1</td>\n",
       "      <td>1</td>\n",
       "      <td>0</td>\n",
       "      <td>0</td>\n",
       "      <td>...</td>\n",
       "      <td>433.0</td>\n",
       "      <td>6.5</td>\n",
       "      <td>0.87</td>\n",
       "      <td>1</td>\n",
       "      <td>1.8</td>\n",
       "      <td>0.4</td>\n",
       "      <td>52.5</td>\n",
       "      <td>37.0</td>\n",
       "      <td>856.0</td>\n",
       "      <td>1</td>\n",
       "    </tr>\n",
       "    <tr>\n",
       "      <td>2</td>\n",
       "      <td>1</td>\n",
       "      <td>0</td>\n",
       "      <td>1</td>\n",
       "      <td>1</td>\n",
       "      <td>0</td>\n",
       "      <td>1</td>\n",
       "      <td>0</td>\n",
       "      <td>1</td>\n",
       "      <td>0</td>\n",
       "      <td>1</td>\n",
       "      <td>...</td>\n",
       "      <td>109.0</td>\n",
       "      <td>7.0</td>\n",
       "      <td>2.10</td>\n",
       "      <td>5</td>\n",
       "      <td>13.0</td>\n",
       "      <td>0.1</td>\n",
       "      <td>28.0</td>\n",
       "      <td>6.0</td>\n",
       "      <td>16.0</td>\n",
       "      <td>1</td>\n",
       "    </tr>\n",
       "    <tr>\n",
       "      <td>3</td>\n",
       "      <td>1</td>\n",
       "      <td>1</td>\n",
       "      <td>1</td>\n",
       "      <td>0</td>\n",
       "      <td>0</td>\n",
       "      <td>0</td>\n",
       "      <td>0</td>\n",
       "      <td>1</td>\n",
       "      <td>0</td>\n",
       "      <td>1</td>\n",
       "      <td>...</td>\n",
       "      <td>174.0</td>\n",
       "      <td>8.1</td>\n",
       "      <td>1.11</td>\n",
       "      <td>2</td>\n",
       "      <td>15.7</td>\n",
       "      <td>0.2</td>\n",
       "      <td>52.5</td>\n",
       "      <td>37.0</td>\n",
       "      <td>856.0</td>\n",
       "      <td>0</td>\n",
       "    </tr>\n",
       "    <tr>\n",
       "      <td>4</td>\n",
       "      <td>1</td>\n",
       "      <td>1</td>\n",
       "      <td>1</td>\n",
       "      <td>1</td>\n",
       "      <td>0</td>\n",
       "      <td>1</td>\n",
       "      <td>0</td>\n",
       "      <td>1</td>\n",
       "      <td>0</td>\n",
       "      <td>1</td>\n",
       "      <td>...</td>\n",
       "      <td>109.0</td>\n",
       "      <td>6.9</td>\n",
       "      <td>1.80</td>\n",
       "      <td>1</td>\n",
       "      <td>9.0</td>\n",
       "      <td>0.1</td>\n",
       "      <td>59.0</td>\n",
       "      <td>15.0</td>\n",
       "      <td>22.0</td>\n",
       "      <td>1</td>\n",
       "    </tr>\n",
       "  </tbody>\n",
       "</table>\n",
       "<p>5 rows × 50 columns</p>\n",
       "</div>"
      ],
      "text/plain": [
       "   1.Gen  2.Sym  3.Alc  4.HepB  5.HepB  6.HepB  7.HepC  8.Cir  9.End  10.Smo  \\\n",
       "0      1      0      1       0       0       0       0      1      0       1   \n",
       "1      0      0      0       0       0       0       1      1      0       0   \n",
       "2      1      0      1       1       0       1       0      1      0       1   \n",
       "3      1      1      1       0       0       0       0      1      0       1   \n",
       "4      1      1      1       1       0       1       0      1      0       1   \n",
       "\n",
       "   ...  41.Alk  42.Prot  43.Crea  44.NNod  45.dnod  46.Bil  47.Iro  48.Oxy  \\\n",
       "0  ...   150.0      7.1     0.70        1      3.5     0.5    52.5    37.0   \n",
       "1  ...   433.0      6.5     0.87        1      1.8     0.4    52.5    37.0   \n",
       "2  ...   109.0      7.0     2.10        5     13.0     0.1    28.0     6.0   \n",
       "3  ...   174.0      8.1     1.11        2     15.7     0.2    52.5    37.0   \n",
       "4  ...   109.0      6.9     1.80        1      9.0     0.1    59.0    15.0   \n",
       "\n",
       "   49.Fer  Class  \n",
       "0   856.0      1  \n",
       "1   856.0      1  \n",
       "2    16.0      1  \n",
       "3   856.0      0  \n",
       "4    22.0      1  \n",
       "\n",
       "[5 rows x 50 columns]"
      ]
     },
     "execution_count": 10,
     "metadata": {},
     "output_type": "execute_result"
    }
   ],
   "source": [
    "# next, before we do the matrix, we need to convert everything into float\n",
    "for col in new_df.columns:\n",
    "    new_df[col] = pd.to_numeric(new_df[col], errors='coerce')\n",
    "new_df.head()"
   ]
  },
  {
   "cell_type": "markdown",
   "metadata": {},
   "source": [
    "# Taking A Second Look at the Data\n",
    "\n",
    "If we successfully balance the labels in our data to be around 50:50 with the imblearn and SMOTE packages as we did above, then we don't really need to worry about the prior ratio of hypothesis in the equation above. Since each label –– 1 (patient lived), and 0 (patient passed) occurs with 50% chance in the training set, it's equally likely to guess each one when we encounter a new point in the test set. Therefore, all we need to focus on is the *likelihood generative model* which we will do with a Gaussian mixture."
   ]
  },
  {
   "cell_type": "markdown",
   "metadata": {},
   "source": [
    "First we're going to select the top 10 features (columns) from the main set, since it has a total of 49 features, and honestly, keeping track of 49 features is *a lot* of information. Plus, creating generative models in 49 dimensions gets a bit tricky, and if you have a real-world dataset with even more features (also called *dimensions*, by the way) then it gets even harder to create models. But no one said machine learning would be easy!\n",
    "\n",
    "(*disclaimer: the \"best\" features, by the way is determined by something called \"mutual information\" between the predictor (independent) features and the label (0 or 1) but that is beyond this notebook and I honestly don't understand it enough to confidently explain at all.*)\n",
    "\n",
    "\n",
    "After we do this let's separate our reduced, 10-dimensional (10 features) dataset into a training and a testing set. "
   ]
  },
  {
   "cell_type": "code",
   "execution_count": 143,
   "metadata": {},
   "outputs": [],
   "source": [
    "# before we do anything let's set a global random seed for our ML algorithms\n",
    "np.random.seed(42)"
   ]
  },
  {
   "cell_type": "code",
   "execution_count": 144,
   "metadata": {},
   "outputs": [],
   "source": [
    "# let's use scikit SelectK Best features (using mutual information) to determine \"the best\"\n",
    "# K \"best\" parameters/features to select from the 49 parameters we have\n",
    "from sklearn.feature_selection import SelectKBest\n",
    "from sklearn.feature_selection import mutual_info_classif\n",
    "K = 5\n",
    "selector = SelectKBest(mutual_info_classif, K)\n",
    "X = new_df.iloc[:, :-1]\n",
    "y = new_df.iloc[:, -1]\n",
    "X_reduced = selector.fit_transform(X,y) \n",
    "                                   \n",
    "features_selected = selector.get_support()"
   ]
  },
  {
   "cell_type": "markdown",
   "metadata": {},
   "source": [
    "As we can see here, the labels 0 and 1 are balanced. There are now 102 patient-survive records and 102 patient-death records."
   ]
  },
  {
   "cell_type": "code",
   "execution_count": 145,
   "metadata": {},
   "outputs": [
    {
     "data": {
      "text/plain": [
       "1    102\n",
       "0     63\n",
       "Name: Class, dtype: int64"
      ]
     },
     "execution_count": 145,
     "metadata": {},
     "output_type": "execute_result"
    }
   ],
   "source": [
    "y.value_counts()"
   ]
  },
  {
   "cell_type": "code",
   "execution_count": 146,
   "metadata": {},
   "outputs": [
    {
     "data": {
      "text/plain": [
       "((107, 5), (107,), (58, 5), (58,))"
      ]
     },
     "execution_count": 146,
     "metadata": {},
     "output_type": "execute_result"
    }
   ],
   "source": [
    "from sklearn.model_selection import train_test_split\n",
    "X_train, X_test, y_train, y_test= train_test_split(X_reduced, y, \n",
    "                                                   train_size=0.65)\n",
    "X_train.shape, y_train.shape, X_test.shape, y_test.shape"
   ]
  },
  {
   "cell_type": "code",
   "execution_count": 147,
   "metadata": {},
   "outputs": [
    {
     "data": {
      "text/plain": [
       "1    66\n",
       "0    41\n",
       "Name: Class, dtype: int64"
      ]
     },
     "execution_count": 147,
     "metadata": {},
     "output_type": "execute_result"
    }
   ],
   "source": [
    "y_train.value_counts()"
   ]
  },
  {
   "cell_type": "code",
   "execution_count": 148,
   "metadata": {
    "scrolled": true
   },
   "outputs": [
    {
     "data": {
      "text/plain": [
       "array(['23.Rad', '27.Sta', ' 31.Alp', '36.Alb', '41.Alk'], dtype=object)"
      ]
     },
     "execution_count": 148,
     "metadata": {},
     "output_type": "execute_result"
    }
   ],
   "source": [
    "# these are the best 10 features the computer selected!\n",
    "feature_names_selected = np.where(features_selected==True)[0].tolist()\n",
    "all_features = np.asarray(new_df.columns)\n",
    "all_features[feature_names_selected]"
   ]
  },
  {
   "cell_type": "markdown",
   "metadata": {},
   "source": [
    "As a use case, let's test out logistic regression on our dataset. Since we are using only 130 records for our training set, I don't expect logistic regression to have amazing predictive power on the testing set."
   ]
  },
  {
   "cell_type": "code",
   "execution_count": 149,
   "metadata": {},
   "outputs": [
    {
     "data": {
      "text/plain": [
       "LogisticRegression(C=0.5, class_weight=None, dual=False, fit_intercept=True,\n",
       "                   intercept_scaling=1, l1_ratio=None, max_iter=1000,\n",
       "                   multi_class='warn', n_jobs=None, penalty='l2',\n",
       "                   random_state=None, solver='lbfgs', tol=0.0001, verbose=0,\n",
       "                   warm_start=False)"
      ]
     },
     "execution_count": 149,
     "metadata": {},
     "output_type": "execute_result"
    }
   ],
   "source": [
    "# use logistic regression as a test case model\n",
    "logreg = LogisticRegression(C=0.5, max_iter=1000, solver='lbfgs')\n",
    "logreg.fit(X_train, y_train)"
   ]
  },
  {
   "cell_type": "code",
   "execution_count": 150,
   "metadata": {},
   "outputs": [
    {
     "data": {
      "image/png": "[encoded data removed]",
      "text/plain": [
       "<Figure size 432x288 with 2 Axes>"
      ]
     },
     "metadata": {
      "needs_background": "light"
     },
     "output_type": "display_data"
    }
   ],
   "source": [
    "logreg_preds = logreg.predict(X_test)\n",
    "\n",
    "from sklearn.metrics import confusion_matrix\n",
    "import seaborn as sns\n",
    "cf_matrix_logreg = confusion_matrix(y_true=np.asarray(y_test), y_pred=logreg_preds)\n",
    "sns.heatmap(cf_matrix_logreg/np.sum(cf_matrix_logreg), annot=True, fmt='.2%', cmap='Blues')\n",
    "plt.xlabel('Predicted Label')\n",
    "plt.ylabel('True Label')\n",
    "plt.title('Confusion Matrix based on Logistic Regression')\n",
    "plt.show()"
   ]
  },
  {
   "cell_type": "markdown",
   "metadata": {},
   "source": [
    "And....we weren't wrong. While logistic regression kind of nails the false-negative rate at about 11%, its false-positive error rate is 22%, which means that for every 5 new patients with hepatocellular carcinoma, 1 of them would be predicted to survive carcinoma, while their actual chance of survival would be very low. This kind of false-positive error rate should be throughly scrutinized in the context of healthcare patient data related to survival. This is one of the reasons why we'll be looking into generative models to tackle small datasets for the rest of the notebook."
   ]
  },
  {
   "cell_type": "markdown",
   "metadata": {},
   "source": [
    "# Part 3: A Generative Classifier\n",
    "\n",
    "\n",
    "We can do this data analysis a different way. Instead of creating a fully predictive model with logistic regression (or say, a neural network) what if –– we do a non-parametric approach instead?\n",
    "\n",
    "Let's take a look at the following equation, which states Bayes' Rule of Inference, but for two classification hypotheses we want to test:"
   ]
  },
  {
   "cell_type": "markdown",
   "metadata": {},
   "source": [
    "$$\\frac{P(H_1|Data)}{P(H_2|Data)} = \\frac{f(Data|H_1)}{f(Data|H_2)}\\frac{P(H_1)}{P(H_2)}$$"
   ]
  },
  {
   "cell_type": "markdown",
   "metadata": {},
   "source": [
    "This equation basically says, that the odds of Hypothesis 1 being true after seeing the new data point, D, over the odds of Hypothesis 2 being true, is the ratio of how likely D fits hypothesis 1 over hypothesis 2 (symbolized by \"f\"), times the prior odds we believe that hypothesis 1 is right over hypothesis 2.\n",
    "\n",
    "The part we call \"f\" is called the *likelihood* of the data fitting the hypothesis H1 or H2. It's usually difficult to calculate this, and we use the lowercase \"f\" instead of probability \"P\" because there are so many data points in our set, we consider the set *continuous* instead, and use \"f\". You can think of $f(x)$ as a *density* –– it gives us a map of how likely certain data points would be *given* that either hypothesis 1 or 2 is correct."
   ]
  },
  {
   "cell_type": "markdown",
   "metadata": {},
   "source": [
    "The difficult part is constructing $f(x)$. This would usually be part of \"unsupervised learning\", where the computer is traianed to find patterns in data without any labels. You might of heard, for example, K-Means – which clusters data into K different blobs based on the \"centroid\" of each cluster. \n",
    "\n",
    "Gaussian Mixture Modeling (GMM) is a general version of K-Means, and while it can be used for clustering, it has waaaay more power than that. Because GMM is a model, a *probabilistic model*, it basically tells us a whole bunch of info about how dense the data points are, and how probable is certain parts of the data from other parts. and one of the amazing things about GMM is that its a *generative model*, which means you can generate *new* samples of the data from your model pretty easily by just calling the .sample method in Sci-kit Learn. This would be pretty hard to do with K-means. "
   ]
  },
  {
   "cell_type": "code",
   "execution_count": 151,
   "metadata": {},
   "outputs": [
    {
     "data": {
      "text/html": [
       "<div>\n",
       "<style scoped>\n",
       "    .dataframe tbody tr th:only-of-type {\n",
       "        vertical-align: middle;\n",
       "    }\n",
       "\n",
       "    .dataframe tbody tr th {\n",
       "        vertical-align: top;\n",
       "    }\n",
       "\n",
       "    .dataframe thead th {\n",
       "        text-align: right;\n",
       "    }\n",
       "</style>\n",
       "<table border=\"1\" class=\"dataframe\">\n",
       "  <thead>\n",
       "    <tr style=\"text-align: right;\">\n",
       "      <th></th>\n",
       "      <th>23.Rad</th>\n",
       "      <th>27.Sta</th>\n",
       "      <th>31.Alp</th>\n",
       "      <th>36.Alb</th>\n",
       "      <th>41.Alk</th>\n",
       "      <th>Class</th>\n",
       "    </tr>\n",
       "  </thead>\n",
       "  <tbody>\n",
       "    <tr>\n",
       "      <td>0</td>\n",
       "      <td>1.0</td>\n",
       "      <td>2.0</td>\n",
       "      <td>5.7</td>\n",
       "      <td>2.1</td>\n",
       "      <td>110.0</td>\n",
       "      <td>1</td>\n",
       "    </tr>\n",
       "    <tr>\n",
       "      <td>1</td>\n",
       "      <td>1.0</td>\n",
       "      <td>3.0</td>\n",
       "      <td>9860.0</td>\n",
       "      <td>3.1</td>\n",
       "      <td>300.0</td>\n",
       "      <td>0</td>\n",
       "    </tr>\n",
       "    <tr>\n",
       "      <td>2</td>\n",
       "      <td>1.0</td>\n",
       "      <td>0.0</td>\n",
       "      <td>266.0</td>\n",
       "      <td>4.2</td>\n",
       "      <td>227.0</td>\n",
       "      <td>1</td>\n",
       "    </tr>\n",
       "    <tr>\n",
       "      <td>3</td>\n",
       "      <td>0.0</td>\n",
       "      <td>2.0</td>\n",
       "      <td>2.9</td>\n",
       "      <td>2.4</td>\n",
       "      <td>190.0</td>\n",
       "      <td>1</td>\n",
       "    </tr>\n",
       "    <tr>\n",
       "      <td>4</td>\n",
       "      <td>0.0</td>\n",
       "      <td>3.0</td>\n",
       "      <td>185203.0</td>\n",
       "      <td>3.6</td>\n",
       "      <td>278.0</td>\n",
       "      <td>0</td>\n",
       "    </tr>\n",
       "  </tbody>\n",
       "</table>\n",
       "</div>"
      ],
      "text/plain": [
       "   23.Rad  27.Sta    31.Alp  36.Alb  41.Alk  Class\n",
       "0     1.0     2.0       5.7     2.1   110.0      1\n",
       "1     1.0     3.0    9860.0     3.1   300.0      0\n",
       "2     1.0     0.0     266.0     4.2   227.0      1\n",
       "3     0.0     2.0       2.9     2.4   190.0      1\n",
       "4     0.0     3.0  185203.0     3.6   278.0      0"
      ]
     },
     "execution_count": 151,
     "metadata": {},
     "output_type": "execute_result"
    }
   ],
   "source": [
    "# next we are going to separate the transformed dataset into either life (1) or death (0)\n",
    "# class labels\n",
    "#the shrunk dataset with only the bst 20 features is called \"short_df\"\n",
    "y_train = y_train.reset_index(drop=True)\n",
    "\n",
    "short_df = pd.DataFrame(X_train, \n",
    "                        columns=all_features[feature_names_selected])\n",
    "\n",
    "short_df['Class'] = y_train\n",
    "short_df.head()\n"
   ]
  },
  {
   "cell_type": "code",
   "execution_count": 152,
   "metadata": {},
   "outputs": [
    {
     "data": {
      "text/plain": [
       "1    66\n",
       "0    41\n",
       "Name: Class, dtype: int64"
      ]
     },
     "execution_count": 152,
     "metadata": {},
     "output_type": "execute_result"
    }
   ],
   "source": [
    "y_train.value_counts()"
   ]
  },
  {
   "cell_type": "code",
   "execution_count": 153,
   "metadata": {},
   "outputs": [
    {
     "data": {
      "text/plain": [
       "((66, 6), (41, 6))"
      ]
     },
     "execution_count": 153,
     "metadata": {},
     "output_type": "execute_result"
    }
   ],
   "source": [
    "short_df_life = short_df[short_df['Class']==1]\n",
    "short_df_death = short_df[short_df['Class']==0]\n",
    "\n",
    "short_df_life.shape, short_df_death.shape"
   ]
  },
  {
   "cell_type": "markdown",
   "metadata": {},
   "source": [
    "Now, we are going to set up the Gaussian Mixture generative model. First we need to import it, and make an object instance of the class. And for the generative model, we are *not* going to touch the testing data; we'll just be dealing with the training set.\n",
    "\n",
    "A question you might ask is: how many components do we need to use in the model? It's a great question! And the answer is often: we don't know beforehand. So instead of running 1 generative model, we are going to run 15 of them each model using from 1 componenent to N components. Once we do this, we can use a number called the *Akaike Information Criterion (AIC)* (don't ask me about it!) to determine how many clusters we should use. A good way to do this is called the \"elbow method\", where we look at the plotted graph of cluster number vs. AIC (it should look like a bent elbow where the bend is at the bottom), and we pick the cluster number closest to the bend.\n"
   ]
  },
  {
   "cell_type": "code",
   "execution_count": 154,
   "metadata": {},
   "outputs": [
    {
     "data": {
      "text/plain": [
       "((66, 5), (41, 5))"
      ]
     },
     "execution_count": 154,
     "metadata": {},
     "output_type": "execute_result"
    }
   ],
   "source": [
    "X_train_life = short_df_life.iloc[:, :-1]\n",
    "X_train_death = short_df_death.iloc[:, :-1]\n",
    "X_train_life.shape, X_train_death.shape"
   ]
  },
  {
   "cell_type": "code",
   "execution_count": 191,
   "metadata": {},
   "outputs": [],
   "source": [
    "from sklearn.mixture import GaussianMixture as GMM\n",
    "\n",
    "M = 40\n",
    "# so M models to train\n",
    "n_components = np.arange(2, M, 1)\n",
    "\n",
    "# the covariance type can be \"full\", \"tied\", or \"diagonal\", or \"spherical\", and I'll \n",
    "# detail a picture of what this means below. \n",
    "life_models = [GMM(n, covariance_type='tied', tol=1e-4) for n in n_components]\n",
    "death_models = [GMM(n, covariance_type='tied', tol=1e-4) for n in n_components]"
   ]
  },
  {
   "cell_type": "code",
   "execution_count": 194,
   "metadata": {},
   "outputs": [
    {
     "name": "stdout",
     "output_type": "stream",
     "text": [
      "Fitting 40 density models...\n"
     ]
    },
    {
     "data": {
      "application/vnd.jupyter.widget-view+json": {
       "model_id": "83a8ce5ba8454eec9806a112249a0a91",
       "version_major": 2,
       "version_minor": 0
      },
      "text/plain": [
       "HBox(children=(IntProgress(value=0, max=38), HTML(value='')))"
      ]
     },
     "metadata": {},
     "output_type": "display_data"
    },
    {
     "name": "stdout",
     "output_type": "stream",
     "text": [
      "\n",
      "Fitting 40 density models...\n"
     ]
    },
    {
     "data": {
      "application/vnd.jupyter.widget-view+json": {
       "model_id": "4f1b37b811604e4dab8f20b06ce45ec4",
       "version_major": 2,
       "version_minor": 0
      },
      "text/plain": [
       "HBox(children=(IntProgress(value=0, max=38), HTML(value='')))"
      ]
     },
     "metadata": {},
     "output_type": "display_data"
    },
    {
     "name": "stdout",
     "output_type": "stream",
     "text": [
      "\n"
     ]
    }
   ],
   "source": [
    "# now we're gonna plot the number of components vs. AIC score to pick the\n",
    "# \"best\" density models for the life data and the death data\n",
    "\n",
    "import time\n",
    "from tqdm import tqdm_notebook as tqdm\n",
    "\n",
    "life_bics = []\n",
    "death_bics = []\n",
    "\n",
    "print(\"Fitting {} density models...\".format(M))\n",
    "for model in tqdm(life_models):\n",
    "    bic = model.fit(X_train_life).bic(X_train_life)\n",
    "    life_bics.append(bic)\n",
    "    time.sleep(0.3)\n",
    "    \n",
    "\n",
    "print(\"Fitting {} density models...\".format(M))\n",
    "for model in tqdm(death_models):\n",
    "    bic = model.fit(X_train_death).bic(X_train_death)\n",
    "    death_bics.append(bic)\n",
    "    time.sleep(0.3)"
   ]
  },
  {
   "cell_type": "code",
   "execution_count": 197,
   "metadata": {},
   "outputs": [
    {
     "data": {
      "image/png": "[encoded data removed]",
      "text/plain": [
       "<Figure size 432x288 with 1 Axes>"
      ]
     },
     "metadata": {
      "needs_background": "light"
     },
     "output_type": "display_data"
    }
   ],
   "source": [
    "# plot the life aic\n",
    "plt.xlabel('Component number')\n",
    "plt.ylabel('BIC Score')\n",
    "plt.title('Life-Data Elbow Graph for Models')\n",
    "plt.plot(n_components, life_aics);"
   ]
  },
  {
   "cell_type": "code",
   "execution_count": 198,
   "metadata": {},
   "outputs": [
    {
     "data": {
      "image/png": "[encoded data removed]",
      "text/plain": [
       "<Figure size 432x288 with 1 Axes>"
      ]
     },
     "metadata": {
      "needs_background": "light"
     },
     "output_type": "display_data"
    }
   ],
   "source": [
    "# plot the death aic\n",
    "plt.xlabel('Component number')\n",
    "plt.ylabel('BIC Score')\n",
    "plt.title('Death-Data Elbow Graph for Models')\n",
    "plt.plot(n_components, death_aics);"
   ]
  },
  {
   "cell_type": "markdown",
   "metadata": {},
   "source": [
    "From the AIC vs. Component-Number plots for the density estimation models, \n",
    "it looks like for now, we'll use 22 components for the life-density model, and 21 components for the death-density models.\n",
    "\n",
    "Now that we have a rough statistic and idea for which Gaussian mixture models to use, we'll actually train a single optimal model for the life-data and a optimal model for the death-data."
   ]
  },
  {
   "cell_type": "code",
   "execution_count": 205,
   "metadata": {},
   "outputs": [
    {
     "name": "stdout",
     "output_type": "stream",
     "text": [
      "True\n",
      "True\n"
     ]
    }
   ],
   "source": [
    "gmm_life = GMM(24, covariance_type='tied',tol=1e-4)\n",
    "gmm_life.fit(X_train_life)\n",
    "print(gmm_life.converged_)\n",
    "\n",
    "gmm_death = GMM(24, covariance_type='tied',tol=1e-4)\n",
    "gmm_death.fit(X_train_death)\n",
    "print(gmm_death.converged_)"
   ]
  },
  {
   "cell_type": "markdown",
   "metadata": {},
   "source": [
    "Now in order to apply Gaussian Mixture modeling as a predictive tool, ket's go back to the Bayesian inference hypothesis equation above. Because we balanced the class labels in our dataset, the quotient $\\frac{P(H_1)}{P(H_2)}$ is 1 because the ratio of life-labels to death-labels is the same. So we only have to worry about the likelihood ratio. \n",
    "\n",
    "Dividing numbers in Python can give weird errors, so instead, we'll work with the *logarithm* of the likelihood ratio, written as:\n",
    "\n",
    "$$log(\\frac{P(Data|H_1)}{P(Data|H_2)})$$\n",
    "\n",
    "which can be written as:\n",
    "\n",
    "$$delta = log(P(Data|H_1) - log(P(Data|H_2))$$\n",
    "\n",
    "The numerator we'll call *life_log_prob* and the denominator as *death_log_prob*.\n",
    "\n",
    "Our key calculation is this: in the quotient of likelihoods, if the quotient is > 1, then the likelihood of the test data point under hypothesis 1 (class label=1) is higher than class label 0, so we classify it as \"survival\". Otherwise, it's classified as \"death\". When we take the logarithm of the likelihood ratio, what this classification rule translates to is that we classify the new data point as \"survival\" if the difference, $delta$ > 0, and \"death\" if $delta$ < 0."
   ]
  },
  {
   "cell_type": "code",
   "execution_count": 206,
   "metadata": {},
   "outputs": [],
   "source": [
    "log_density_life = gmm_life.score_samples(X_test)\n",
    "log_density_death = gmm_death.score_samples(X_test)"
   ]
  },
  {
   "cell_type": "code",
   "execution_count": 207,
   "metadata": {},
   "outputs": [
    {
     "data": {
      "text/plain": [
       "Counter({1: 102, 0: 63})"
      ]
     },
     "execution_count": 207,
     "metadata": {},
     "output_type": "execute_result"
    }
   ],
   "source": [
    "Counter(y)"
   ]
  },
  {
   "cell_type": "code",
   "execution_count": 208,
   "metadata": {},
   "outputs": [],
   "source": [
    "log_likelihood_odds = np.subtract(log_density_life, log_density_death)\n",
    "# now we need to care about the prior odds since the data is not balanced\n",
    "num_pos = Counter(y)[1]\n",
    "num_neg = Counter(y)[0]\n",
    "log_prior_odds = np.repeat(np.log(num_pos/num_neg), len(log_likelihood_odds))\n",
    "\n",
    "# use bayes formula for inference\n",
    "log_posterior_odds = np.add(log_likelihood_odds, log_prior_odds)\n",
    "\n",
    "gmm_predictions = [1 if x>0 else 0 for x in log_posterior_odds]\n",
    "gmm_predictions = np.asarray(gmm_predictions)"
   ]
  },
  {
   "cell_type": "code",
   "execution_count": 209,
   "metadata": {},
   "outputs": [
    {
     "data": {
      "text/plain": [
       "array([1, 0, 1, 1, 0, 1, 1, 1, 1, 1, 0, 1, 0, 0, 1, 0, 1, 1, 0, 1, 0, 0,\n",
       "       0, 0, 0, 0, 1, 1, 1, 1, 1, 0, 0, 1, 0, 1, 0, 0, 1, 1, 0, 1, 0, 1,\n",
       "       1, 0, 1, 1, 1, 0, 1, 1, 1, 0, 1, 0, 0, 0])"
      ]
     },
     "execution_count": 209,
     "metadata": {},
     "output_type": "execute_result"
    }
   ],
   "source": [
    "gmm_predictions"
   ]
  },
  {
   "cell_type": "code",
   "execution_count": 210,
   "metadata": {},
   "outputs": [
    {
     "data": {
      "image/png": "[encoded data removed]",
      "text/plain": [
       "<Figure size 432x288 with 2 Axes>"
      ]
     },
     "metadata": {
      "needs_background": "light"
     },
     "output_type": "display_data"
    }
   ],
   "source": [
    "from sklearn.metrics import confusion_matrix\n",
    "import seaborn as sns\n",
    "\n",
    "\n",
    "\n",
    "cf_matrix = confusion_matrix(y_true=np.asarray(y_test), y_pred=gmm_predictions)\n",
    "sns.heatmap(cf_matrix/np.sum(cf_matrix), annot=True, fmt='.2%', cmap='Blues')\n",
    "plt.xlabel('Predicted Label')\n",
    "plt.ylabel('True Label')\n",
    "plt.title('Confusion Matrix based on Gaussian Mixture Density Estimation')\n",
    "plt.show()"
   ]
  },
  {
   "cell_type": "markdown",
   "metadata": {},
   "source": [
    "# Kernel Density Estimation\n",
    "Let's try estimating the likelihood density, instead using the Kernal Density Estimation\n",
    "algorithm, also from scikit learn! This is similar to the Gaussian Mixture Model, except you apply a Gaussian at *every* point instead of having a fixed cluster of Gaussians. This often gets you a more closer fit to the data distribution, but it also comes at the price of possibly overfitting."
   ]
  },
  {
   "cell_type": "code",
   "execution_count": 169,
   "metadata": {},
   "outputs": [
    {
     "data": {
      "text/plain": [
       "((66, 5), (41, 5))"
      ]
     },
     "execution_count": 169,
     "metadata": {},
     "output_type": "execute_result"
    }
   ],
   "source": [
    "X_train_life.shape, X_train_death.shape"
   ]
  },
  {
   "cell_type": "code",
   "execution_count": 176,
   "metadata": {},
   "outputs": [],
   "source": [
    "from sklearn.neighbors import KernelDensity\n",
    "kde_life = KernelDensity(bandwidth=0.05).fit(X_train_life)\n",
    "kde_death = KernelDensity(bandwidth=0.05).fit(X_train_death)\n",
    "\n",
    "log_kde_life = kde_life.score_samples(X_test)\n",
    "log_kde_death = kde_death.score_samples(X_test)"
   ]
  },
  {
   "cell_type": "code",
   "execution_count": 177,
   "metadata": {},
   "outputs": [],
   "source": [
    "num_pos = Counter(y)[1]\n",
    "num_neg = Counter(y)[0]\n",
    "kde_likelihood_odds = np.subtract(log_kde_life, log_kde_death)\n",
    "log_prior_odds = np.repeat(np.log(num_pos/num_neg), len(kde_likelihood_odds))\n",
    "\n",
    "# use bayes formula for inference\n",
    "kde_posterior_odds = np.add(kde_likelihood_odds, log_prior_odds)\n",
    "\n",
    "kde_preds = np.asarray([1 if x > 0 else 0 for x in kde_posterior_odds])"
   ]
  },
  {
   "cell_type": "code",
   "execution_count": 178,
   "metadata": {},
   "outputs": [
    {
     "data": {
      "image/png": "[encoded data removed]",
      "text/plain": [
       "<Figure size 432x288 with 2 Axes>"
      ]
     },
     "metadata": {
      "needs_background": "light"
     },
     "output_type": "display_data"
    }
   ],
   "source": [
    "y_test = np.asarray(y_test)\n",
    "\n",
    "\n",
    "cf_matrix_kde = confusion_matrix(y_true=y_test, y_pred=kde_preds)\n",
    "sns.heatmap(cf_matrix_kde/np.sum(cf_matrix_kde), annot=True, fmt='.2%', cmap='Blues')\n",
    "plt.xlabel('Predicted Label')\n",
    "plt.ylabel('True Label')\n",
    "plt.title('Confusion Matrix based on Kernel Density Estimation')\n",
    "plt.show()"
   ]
  },
  {
   "cell_type": "markdown",
   "metadata": {},
   "source": [
    "I hope that these results show that density estimation models can be potentially used for classification problems as well, especially when there's a lack of data records. And studies do show that in many fields where data science is used, data-records arne't as common as say, MNIST images or other examples of training-data sets."
   ]
  },
  {
   "cell_type": "markdown",
   "metadata": {},
   "source": [
    "$$x: patient record$$\n",
    "$$y: {treatmentA, treatmentB}$$\n",
    "$$ y = f(x)$$"
   ]
  },
  {
   "cell_type": "code",
   "execution_count": null,
   "metadata": {},
   "outputs": [],
   "source": []
  }
 ],
 "metadata": {
  "kernelspec": {
   "display_name": "Python 3",
   "language": "python",
   "name": "python3"
  },
  "language_info": {
   "codemirror_mode": {
    "name": "ipython",
    "version": 3
   },
   "file_extension": ".py",
   "mimetype": "text/x-python",
   "name": "python",
   "nbconvert_exporter": "python",
   "pygments_lexer": "ipython3",
   "version": "3.7.4"
  }
 },
 "nbformat": 4,
 "nbformat_minor": 2
}
